{
 "cells": [
  {
   "cell_type": "markdown",
   "id": "ed4874c2-2119-4c5e-b102-a3390b19c843",
   "metadata": {},
   "source": [
    "Q1. Create one variable containing following type of data:\n",
    "(i) string\n",
    "(ii) list\n",
    "(iii) float\n",
    "(iv) tuple"
   ]
  },
  {
   "cell_type": "code",
   "execution_count": 1,
   "id": "4aff4e99-0546-4171-98be-afb4df310534",
   "metadata": {},
   "outputs": [],
   "source": [
    "s=\"simran\""
   ]
  },
  {
   "cell_type": "code",
   "execution_count": 2,
   "id": "fb08c7fc-fb4d-4933-8c38-5a8f3feeee1b",
   "metadata": {},
   "outputs": [
    {
     "data": {
      "text/plain": [
       "'simran'"
      ]
     },
     "execution_count": 2,
     "metadata": {},
     "output_type": "execute_result"
    }
   ],
   "source": [
    "s"
   ]
  },
  {
   "cell_type": "code",
   "execution_count": 3,
   "id": "8533cbc7-4b1f-48d8-a65c-51a569ee0c1f",
   "metadata": {},
   "outputs": [],
   "source": [
    "list=[1,2,3,\"sim\",\"ran\"]\n"
   ]
  },
  {
   "cell_type": "code",
   "execution_count": 4,
   "id": "cb9a837d-3458-4d23-a191-8ab95b5482b1",
   "metadata": {},
   "outputs": [
    {
     "data": {
      "text/plain": [
       "[1, 2, 3, 'sim', 'ran']"
      ]
     },
     "execution_count": 4,
     "metadata": {},
     "output_type": "execute_result"
    }
   ],
   "source": [
    "list"
   ]
  },
  {
   "cell_type": "code",
   "execution_count": 5,
   "id": "f8201f45-c6bc-4f57-8491-f10d9412bf61",
   "metadata": {},
   "outputs": [],
   "source": [
    "float=78.9"
   ]
  },
  {
   "cell_type": "code",
   "execution_count": 6,
   "id": "e1034bc2-e7e2-4ee0-b834-361f3877e4bf",
   "metadata": {},
   "outputs": [
    {
     "data": {
      "text/plain": [
       "78.9"
      ]
     },
     "execution_count": 6,
     "metadata": {},
     "output_type": "execute_result"
    }
   ],
   "source": [
    "float"
   ]
  },
  {
   "cell_type": "code",
   "execution_count": 7,
   "id": "0c4b18fb-1600-4b6c-a8bb-659f594d18a4",
   "metadata": {},
   "outputs": [],
   "source": [
    "tuple=(1,2,\"sim\",3,4,\"ran\")"
   ]
  },
  {
   "cell_type": "code",
   "execution_count": 8,
   "id": "7f3f8c1b-f9c4-4381-8b49-aefa438f64f6",
   "metadata": {},
   "outputs": [
    {
     "data": {
      "text/plain": [
       "(1, 2, 'sim', 3, 4, 'ran')"
      ]
     },
     "execution_count": 8,
     "metadata": {},
     "output_type": "execute_result"
    }
   ],
   "source": [
    "tuple"
   ]
  },
  {
   "cell_type": "markdown",
   "id": "45ab3eec-1fbd-4ff7-ac70-19e460a09e4e",
   "metadata": {},
   "source": [
    "Q2. Given are some following variables containing data:\n",
    "(i) var1 = ‘ ‘\n",
    "(ii) var2 = ‘[ DS , ML , Python]’\n",
    "(iii) var3 = [ ‘DS’ , ’ML’ , ‘Python’ ]\n",
    "(iv) var4 = 1.\n",
    "What will be the data type of the above given variable."
   ]
  },
  {
   "cell_type": "code",
   "execution_count": 9,
   "id": "54f2068c-06cb-4b3b-b46a-5fedd18754ed",
   "metadata": {},
   "outputs": [],
   "source": [
    "var1=' '"
   ]
  },
  {
   "cell_type": "code",
   "execution_count": 10,
   "id": "7d8a4b06-a883-4e99-9491-d9b33f55bdde",
   "metadata": {},
   "outputs": [
    {
     "data": {
      "text/plain": [
       "str"
      ]
     },
     "execution_count": 10,
     "metadata": {},
     "output_type": "execute_result"
    }
   ],
   "source": [
    "type(var1)"
   ]
  },
  {
   "cell_type": "code",
   "execution_count": 11,
   "id": "77fe56c9-d8a2-4f04-a61a-05fd076636a9",
   "metadata": {},
   "outputs": [],
   "source": [
    " var2 = '[ DS , ML , Python]'"
   ]
  },
  {
   "cell_type": "code",
   "execution_count": 13,
   "id": "fbe0aedc-c0ec-442f-b0f3-cb89a77f3a2d",
   "metadata": {},
   "outputs": [
    {
     "data": {
      "text/plain": [
       "str"
      ]
     },
     "execution_count": 13,
     "metadata": {},
     "output_type": "execute_result"
    }
   ],
   "source": [
    "type(var2)"
   ]
  },
  {
   "cell_type": "code",
   "execution_count": 14,
   "id": "ccd43e1c-6fa1-44ce-b503-35402c6ca9d9",
   "metadata": {},
   "outputs": [],
   "source": [
    " var3 = [ 'DS' , 'ML' , 'Python' ]"
   ]
  },
  {
   "cell_type": "code",
   "execution_count": 16,
   "id": "6f798b16-1d66-45df-9a92-da6ef89200ba",
   "metadata": {},
   "outputs": [
    {
     "data": {
      "text/plain": [
       "list"
      ]
     },
     "execution_count": 16,
     "metadata": {},
     "output_type": "execute_result"
    }
   ],
   "source": [
    "type(var3)"
   ]
  },
  {
   "cell_type": "code",
   "execution_count": 17,
   "id": "ee077589-df67-459b-8b8c-3d9abcdef8ea",
   "metadata": {},
   "outputs": [],
   "source": [
    "var4 = 1."
   ]
  },
  {
   "cell_type": "code",
   "execution_count": 18,
   "id": "b359ede5-b52f-4ab9-9257-ef6784e89a9c",
   "metadata": {},
   "outputs": [
    {
     "data": {
      "text/plain": [
       "float"
      ]
     },
     "execution_count": 18,
     "metadata": {},
     "output_type": "execute_result"
    }
   ],
   "source": [
    "type(var4)"
   ]
  },
  {
   "cell_type": "markdown",
   "id": "beb15848-df6a-4ddb-878c-1f4cf6e24649",
   "metadata": {},
   "source": [
    "Q3. Explain the use of the following operators using an example:\n",
    "(i) /\n",
    "(ii) %\n",
    "(iii) //\n",
    "(iv) **"
   ]
  },
  {
   "cell_type": "code",
   "execution_count": 19,
   "id": "e8253080-c0a2-48f0-b8ad-436702aeb920",
   "metadata": {},
   "outputs": [],
   "source": [
    "a,b=10,5"
   ]
  },
  {
   "cell_type": "code",
   "execution_count": 20,
   "id": "31dc8e78-d1d6-4852-846e-75e05a362ac5",
   "metadata": {},
   "outputs": [
    {
     "data": {
      "text/plain": [
       "2.0"
      ]
     },
     "execution_count": 20,
     "metadata": {},
     "output_type": "execute_result"
    }
   ],
   "source": [
    "a/b"
   ]
  },
  {
   "cell_type": "code",
   "execution_count": 21,
   "id": "12dfe475-80bc-42b1-9e5f-7b299c7de04d",
   "metadata": {},
   "outputs": [
    {
     "data": {
      "text/plain": [
       "0"
      ]
     },
     "execution_count": 21,
     "metadata": {},
     "output_type": "execute_result"
    }
   ],
   "source": [
    "a%b"
   ]
  },
  {
   "cell_type": "code",
   "execution_count": 22,
   "id": "1e880861-89b5-4fcc-9a5b-f34d55da2f38",
   "metadata": {},
   "outputs": [
    {
     "data": {
      "text/plain": [
       "2"
      ]
     },
     "execution_count": 22,
     "metadata": {},
     "output_type": "execute_result"
    }
   ],
   "source": [
    "a//b"
   ]
  },
  {
   "cell_type": "code",
   "execution_count": 23,
   "id": "e4bf8bb8-1007-4ce4-aa96-83b39514bb86",
   "metadata": {},
   "outputs": [
    {
     "data": {
      "text/plain": [
       "100000"
      ]
     },
     "execution_count": 23,
     "metadata": {},
     "output_type": "execute_result"
    }
   ],
   "source": [
    "a**b"
   ]
  },
  {
   "cell_type": "markdown",
   "id": "7c82138e-249b-4cb5-8e51-3f765fa6b808",
   "metadata": {},
   "source": [
    "Q4. Create a list of length 10 of your choice containing multiple types of data. Using for loop print the\n",
    "element and its data type."
   ]
  },
  {
   "cell_type": "code",
   "execution_count": 24,
   "id": "3d232191-a7b0-490f-a40e-08edefcf4625",
   "metadata": {},
   "outputs": [],
   "source": [
    "list=[1,2,3,4,\"sim\",2,45.6,[1,2,3],\"tan\",(1,2)]"
   ]
  },
  {
   "cell_type": "code",
   "execution_count": 25,
   "id": "b1f9f919-97ce-4f9f-ab93-2b9a53005666",
   "metadata": {},
   "outputs": [
    {
     "name": "stdout",
     "output_type": "stream",
     "text": [
      "1 <class 'int'>\n",
      "2 <class 'int'>\n",
      "3 <class 'int'>\n",
      "4 <class 'int'>\n",
      "sim <class 'str'>\n",
      "2 <class 'int'>\n",
      "45.6 <class 'float'>\n",
      "[1, 2, 3] <class 'list'>\n",
      "tan <class 'str'>\n",
      "(1, 2) <class 'tuple'>\n"
     ]
    }
   ],
   "source": [
    "for i in list:\n",
    "    print(i,type(i))"
   ]
  },
  {
   "cell_type": "markdown",
   "id": "30239e9d-12fd-4df6-b196-87904015d878",
   "metadata": {},
   "source": [
    "Q5. Using a while loop, verify if the number A is purely divisible by number B and if so then how many\n",
    "times it can be divisible."
   ]
  },
  {
   "cell_type": "code",
   "execution_count": 44,
   "id": "afcd143f-627c-45a1-94cb-f979844af247",
   "metadata": {},
   "outputs": [
    {
     "name": "stdout",
     "output_type": "stream",
     "text": [
      "a is divisible by b  5 times\n"
     ]
    }
   ],
   "source": [
    "a,b=10,2\n",
    "count=0\n",
    "if(a%b==0):\n",
    "    count=int(a/b)\n",
    "    print(\"a is divisible by b \",count, \"times\")\n",
    "else:\n",
    "    print(\"a is not divisible by b\")"
   ]
  },
  {
   "cell_type": "markdown",
   "id": "df775dd7-e0c2-425b-b356-bdf663e01ec1",
   "metadata": {},
   "source": [
    "Q6. Create a list containing 25 int type data. Using for loop and if-else condition print if the element is\n",
    "divisible by 3 or not."
   ]
  },
  {
   "cell_type": "code",
   "execution_count": 49,
   "id": "0e9987fa-a1f5-4f64-8deb-d27320214f73",
   "metadata": {},
   "outputs": [
    {
     "name": "stdout",
     "output_type": "stream",
     "text": [
      "1 is not divisible by 3\n",
      "2 is not divisible by 3\n",
      "3 is divisble by 3\n",
      "4 is not divisible by 3\n",
      "5 is not divisible by 3\n",
      "6 is divisble by 3\n",
      "7 is not divisible by 3\n",
      "8 is not divisible by 3\n",
      "9 is divisble by 3\n",
      "10 is not divisible by 3\n",
      "11 is not divisible by 3\n",
      "12 is divisble by 3\n",
      "13 is not divisible by 3\n",
      "14 is not divisible by 3\n",
      "15 is divisble by 3\n",
      "16 is not divisible by 3\n",
      "17 is not divisible by 3\n",
      "18 is divisble by 3\n",
      "19 is not divisible by 3\n",
      "20 is not divisible by 3\n",
      "21 is divisble by 3\n",
      "22 is not divisible by 3\n",
      "23 is not divisible by 3\n",
      "24 is divisble by 3\n",
      "25 is not divisible by 3\n"
     ]
    }
   ],
   "source": [
    "list=[1,2,3,4,5,6,7,8,9,10,11,12,13,14,15,16,17,18,19,20,21,22,23,24,25]\n",
    "for i in list:\n",
    "    if(i%3==0):\n",
    "        print(i,\"is divisble by 3\")\n",
    "    else:\n",
    "        print(i,\"is not divisible by 3\")    \n",
    "        \n",
    "    "
   ]
  },
  {
   "cell_type": "markdown",
   "id": "ba90896a-cac0-40a3-bd69-578a42e4d0d9",
   "metadata": {},
   "source": [
    "Q7. What do you understand about mutable and immutable data types? Give examples for both showing\n",
    "this property.\n",
    "Ans. Mutable data types are those data types whose values can be altered or change by the user for ex=\"list\" \n",
    "     Immutable data types are those data types whose value can be changed for ex=\"tuple\",\"string\"."
   ]
  },
  {
   "cell_type": "code",
   "execution_count": 50,
   "id": "6090742c-0330-41cf-b109-52a581e80b47",
   "metadata": {},
   "outputs": [],
   "source": [
    "#Mutable\n",
    "li=[1,2,3,4,5]\n",
    "li[0]=10"
   ]
  },
  {
   "cell_type": "code",
   "execution_count": 51,
   "id": "8c3c57a3-4232-4550-ada8-fe5300fcf68e",
   "metadata": {},
   "outputs": [
    {
     "data": {
      "text/plain": [
       "[10, 2, 3, 4, 5]"
      ]
     },
     "execution_count": 51,
     "metadata": {},
     "output_type": "execute_result"
    }
   ],
   "source": [
    "li"
   ]
  },
  {
   "cell_type": "code",
   "execution_count": null,
   "id": "d434d62a-fa22-4a8c-b4f5-dce485987718",
   "metadata": {},
   "outputs": [],
   "source": [
    "#Immutable\n",
    "tuple=(1,2,3,4,5)\n",
    "tuple[0]=10\n"
   ]
  }
 ],
 "metadata": {
  "kernelspec": {
   "display_name": "Python 3 (ipykernel)",
   "language": "python",
   "name": "python3"
  },
  "language_info": {
   "codemirror_mode": {
    "name": "ipython",
    "version": 3
   },
   "file_extension": ".py",
   "mimetype": "text/x-python",
   "name": "python",
   "nbconvert_exporter": "python",
   "pygments_lexer": "ipython3",
   "version": "3.10.8"
  }
 },
 "nbformat": 4,
 "nbformat_minor": 5
}
